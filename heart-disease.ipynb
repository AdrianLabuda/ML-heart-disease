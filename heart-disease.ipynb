{
 "cells": [
  {
   "cell_type": "markdown",
   "metadata": {},
   "source": [
    "# Predicting heart disease using machine learning\n",
    "\n",
    "\n",
    "<ol>\n",
    "    <li>Problem definition</li>\n",
    "    <li>Data</li>\n",
    "    <li>Preparing tools</li>\n",
    "    <li>Evaluation</li>\n",
    "    <li>Features</li>\n",
    "    <li>Modeling</li>\n",
    "</ol>\n",
    "\n",
    "\n",
    "# Data\n",
    "    \n",
    "   **Data dictionary** \n",
    "1. **age** in years\n",
    "2. **sex:**\n",
    "    * 1 = male\n",
    "    * 0 = female\n",
    "3. **cp** chest pain type:\n",
    "    * 1: typical angina\n",
    "    * 2: atypical angina\n",
    "    * 3: non-anginal pain\n",
    "    * 4: asymptomatic\n",
    "4. **trestbps** resting blood pressure (in mm Hg on admission to the hospital)\n",
    "5. **chol** serum cholestoral in mg/dl\n",
    "6. **fbs** (fasting blood sugar > 120 mg/dl):\n",
    "    * 1 = true\n",
    "    * 0 = false\n",
    "7. **restecg** resting electrocardiographic results:\n",
    "    * 0: normal\n",
    "    * 1: having ST-T wave abnormality (T wave inversions and/or ST elevation or depression of > 0.05 mV)\n",
    "    * 2: showing probable or definite left ventricular hypertrophy by Estes' criteria \n",
    "8. **thalach** maximum heart rate achieved\n",
    "9. **exang** exercise induced angina:\n",
    "    * 1 = yes\n",
    "    * 0 = no\n",
    "10. **oldpeak** ST depression induced by exercise relative to rest\n",
    "11. **slope** the slope of the peak exercise ST segment:\n",
    "    * 1: upsloping\n",
    "    * 2: flat\n",
    "    * 3: downsloping \n",
    "12. **ca** number of major vessels (0-3) colored by flourosopy\n",
    "13. **thal:** \n",
    "    * 3 = normal \n",
    "    * 6 = fixed defect\n",
    "    * 7 = reversable defect\n",
    "14. **target:**\n",
    "    * 1 = true\n",
    "    * 0 = false"
   ]
  },
  {
   "cell_type": "markdown",
   "metadata": {},
   "source": [
    "# Preparing tools"
   ]
  },
  {
   "cell_type": "code",
   "execution_count": null,
   "metadata": {},
   "outputs": [],
   "source": [
    "from __future__ import print_function, division\n",
    "import numpy as np\n",
    "import pandas as pd\n",
    "import matplotlib as mpl\n",
    "import matplotlib.pyplot as plt\n",
    "import seaborn as sns\n",
    "\n",
    "# we want our plots to apper inside notebook\n",
    "%matplotlib inline\n",
    "\n",
    "from sklearn.linear_model import LinearRegression\n",
    "from sklearn.neighbors import KNeighborsClassifier\n",
    "from sklearn.ensemble import RandomForestClassifier\n",
    "\n",
    "# model evaluation\n",
    "from sklearn.model_selection import train_test_split, cross_val_score\n",
    "from sklearn.model_selection import RandomizedSearchCV, GridSearchCV\n",
    "\n",
    "from sklearn.metrics import confusion_matrix, classification_report\n",
    "from sklearn.metrics import accuracy_score, recall_score, f1_score, r2_score\n",
    "from sklearn.metrics import roc_auc_score, roc_curve\n",
    "from sklearn.metrics import plot_roc_curve, plot_confusion_matrix"
   ]
  }
 ],
 "metadata": {
  "kernelspec": {
   "display_name": "Python 3",
   "language": "python",
   "name": "python3"
  },
  "language_info": {
   "codemirror_mode": {
    "name": "ipython",
    "version": 3
   },
   "file_extension": ".py",
   "mimetype": "text/x-python",
   "name": "python",
   "nbconvert_exporter": "python",
   "pygments_lexer": "ipython3",
   "version": "3.8.2"
  },
  "toc": {
   "base_numbering": 1,
   "nav_menu": {},
   "number_sections": true,
   "sideBar": true,
   "skip_h1_title": false,
   "title_cell": "Table of Contents",
   "title_sidebar": "Contents",
   "toc_cell": false,
   "toc_position": {},
   "toc_section_display": true,
   "toc_window_display": false
  }
 },
 "nbformat": 4,
 "nbformat_minor": 4
}
